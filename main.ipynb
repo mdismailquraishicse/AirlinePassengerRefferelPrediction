{
 "cells": [
  {
   "cell_type": "code",
   "execution_count": 1,
   "id": "5349a5dc-f0dc-48ca-b4fa-29365deb0d82",
   "metadata": {},
   "outputs": [],
   "source": [
    "import numpy as np\n",
    "import pandas as pd\n",
    "import matplotlib.pyplot as plt\n",
    "import seaborn as sns\n",
    "from sklearn.model_selection import GridSearchCV, train_test_split\n",
    "from sklearn.metrics import classification_report, accuracy_score, confusion_matrix, precision_score, roc_auc_score, recall_score\n",
    "from sklearn.svm import SVC\n",
    "from sklearn.linear_model import LogisticRegression\n",
    "from sklearn.ensemble import RandomForestClassifier\n",
    "from xgboost import XGBClassifier\n",
    "from sklearn.decomposition import PCA"
   ]
  },
  {
   "cell_type": "code",
   "execution_count": 2,
   "id": "867c7868-01c5-49d8-bcf8-a4e3794b2613",
   "metadata": {},
   "outputs": [],
   "source": [
    "df = pd.read_excel('./data/file_after_eda.xlsx')\n",
    "df.drop('Unnamed: 0', axis=1,inplace=True)"
   ]
  },
  {
   "cell_type": "markdown",
   "id": "4f178ea7-ea89-4714-92ec-d4b325774169",
   "metadata": {},
   "source": [
    "#### Null handling"
   ]
  },
  {
   "cell_type": "code",
   "execution_count": 3,
   "id": "5fc430a5-8935-4769-a55b-2020f2a3e835",
   "metadata": {},
   "outputs": [
    {
     "data": {
      "text/plain": [
       "airline             0.00\n",
       "overall             2.95\n",
       "author              0.00\n",
       "review_date         0.00\n",
       "customer_review     0.00\n",
       "aircraft           69.07\n",
       "traveller_type     37.18\n",
       "cabin               1.77\n",
       "route              37.23\n",
       "date_flown         37.36\n",
       "seat_comfort        5.94\n",
       "cabin_service       5.89\n",
       "food_bev           19.11\n",
       "entertainment      32.68\n",
       "ground_service     37.80\n",
       "value_for_money     0.73\n",
       "recommended         0.00\n",
       "dtype: float64"
      ]
     },
     "execution_count": 3,
     "metadata": {},
     "output_type": "execute_result"
    }
   ],
   "source": [
    "# Null % in each column\n",
    "round(df.isna().sum()/len(df)*100,2)"
   ]
  },
  {
   "cell_type": "code",
   "execution_count": 4,
   "id": "43772b0d-4f3d-4abd-a755-4f925fcf239c",
   "metadata": {},
   "outputs": [],
   "source": [
    "# Drop columns with higher than 19% null\n",
    "col_with_high_null = ['aircraft', 'traveller_type', 'route', 'date_flown', 'entertainment', 'ground_service']\n",
    "unwanted_cols = ['airline', 'author', 'review_date', 'customer_review']\n",
    "df.drop(col_with_high_null,axis=1, inplace=True)\n",
    "unwanted_cols = ['airline', 'author', 'review_date', 'customer_review']\n",
    "df.drop(unwanted_cols, axis=1, inplace=True)"
   ]
  },
  {
   "cell_type": "code",
   "execution_count": 5,
   "id": "53ee8534-f963-4d0f-b6d7-6ca576732d98",
   "metadata": {},
   "outputs": [],
   "source": [
    "# Imputing null with top and mean\n",
    "df['overall']= df['overall'].fillna(df['overall'].mean())\n",
    "df['cabin'] = df['cabin'].fillna(df['cabin'].describe()['top'])\n",
    "df['seat_comfort']= df['seat_comfort'].fillna(df['seat_comfort'].mean())\n",
    "df['cabin_service']= df['cabin_service'].fillna(df['cabin_service'].mean())\n",
    "df['food_bev']= df['food_bev'].fillna(df['food_bev'].mean())\n",
    "df['value_for_money']= df['value_for_money'].fillna(df['value_for_money'].mean())"
   ]
  },
  {
   "cell_type": "code",
   "execution_count": 6,
   "id": "80e6803c-d2e3-46d0-8c55-1582f1736219",
   "metadata": {},
   "outputs": [],
   "source": [
    "df = pd.get_dummies(df,columns=['cabin'],dtype='int64') # Onehot encoding\n",
    "df['recommended'] = df['recommended'].apply(lambda x:1 if x=='yes' else 0)\n",
    "X = df.drop('recommended',axis=1)\n",
    "y = df['recommended']"
   ]
  },
  {
   "cell_type": "markdown",
   "id": "c6ad8b6a-960b-4ad5-8b34-3c16a1f838af",
   "metadata": {},
   "source": [
    "#### Dimentionality reduction"
   ]
  },
  {
   "cell_type": "code",
   "execution_count": 7,
   "id": "6b3ebd6a-10ad-4246-a80c-cd0cefcd58e7",
   "metadata": {},
   "outputs": [
    {
     "name": "stdout",
     "output_type": "stream",
     "text": [
      "variance explaine by 4 components :  0.9598858555860601\n"
     ]
    }
   ],
   "source": [
    "pca = PCA(n_components=4)\n",
    "X = pca.fit_transform(X)\n",
    "print('variance explaine by 4 components : ',sum(pca.explained_variance_ratio_))"
   ]
  },
  {
   "cell_type": "markdown",
   "id": "278116bc-390b-4e6a-b56a-3d642949c3d9",
   "metadata": {},
   "source": [
    "#### Preprocessing"
   ]
  },
  {
   "cell_type": "code",
   "execution_count": 8,
   "id": "7380455a-80f3-4e99-b770-a1aac7325439",
   "metadata": {},
   "outputs": [
    {
     "name": "stdout",
     "output_type": "stream",
     "text": [
      "X_train :  (56772, 4)\n",
      "y_train :  (56772,)\n",
      "X_test :  (2989, 4)\n",
      "y_test :  (2989,)\n"
     ]
    }
   ],
   "source": [
    "# Train test split\n",
    "X_train, X_test, y_train, y_test = train_test_split(X,y,random_state=0, test_size=.05)\n",
    "print('X_train : ',X_train.shape)\n",
    "print('y_train : ',y_train.shape)\n",
    "print('X_test : ', X_test.shape)\n",
    "print('y_test : ', y_test.shape)"
   ]
  },
  {
   "cell_type": "markdown",
   "id": "612e6124-f62f-4d5f-b234-dbb1fbcd1baa",
   "metadata": {},
   "source": [
    "### Model building"
   ]
  },
  {
   "cell_type": "markdown",
   "id": "3ec70a5e-b388-426f-a171-d7836be8dfb0",
   "metadata": {},
   "source": [
    "#### Logistic Regression"
   ]
  },
  {
   "cell_type": "code",
   "execution_count": 9,
   "id": "fe5a46f9-ee09-4954-9cc0-0d225a33bd9c",
   "metadata": {},
   "outputs": [],
   "source": [
    "model_logistic = LogisticRegression()\n",
    "model_logistic.fit(X_train,y_train)\n",
    "\n",
    "train_pred = model_logistic.predict(X_train)\n",
    "test_pred = model_logistic.predict(X_test)"
   ]
  },
  {
   "cell_type": "code",
   "execution_count": 10,
   "id": "69de7fc0-52a3-4902-8911-a816886b85f0",
   "metadata": {},
   "outputs": [
    {
     "name": "stdout",
     "output_type": "stream",
     "text": [
      "Train :\n",
      "              precision    recall  f1-score   support\n",
      "\n",
      "           0       0.96      0.96      0.96     29672\n",
      "           1       0.96      0.95      0.95     27100\n",
      "\n",
      "    accuracy                           0.96     56772\n",
      "   macro avg       0.96      0.96      0.96     56772\n",
      "weighted avg       0.96      0.96      0.96     56772\n",
      "\n",
      "Test :\n",
      "              precision    recall  f1-score   support\n",
      "\n",
      "           0       0.96      0.96      0.96      1596\n",
      "           1       0.96      0.95      0.96      1393\n",
      "\n",
      "    accuracy                           0.96      2989\n",
      "   macro avg       0.96      0.96      0.96      2989\n",
      "weighted avg       0.96      0.96      0.96      2989\n",
      "\n"
     ]
    }
   ],
   "source": [
    "# Classification Report\n",
    "print('Train :')\n",
    "print(classification_report(y_train, train_pred))\n",
    "# Classification Report\n",
    "print('Test :')\n",
    "print(classification_report(y_test, test_pred))"
   ]
  },
  {
   "cell_type": "markdown",
   "id": "8f3ba3cd-863b-4383-bcaa-630c24d922b4",
   "metadata": {},
   "source": [
    "##### Hyper-parameter tuning"
   ]
  },
  {
   "cell_type": "code",
   "execution_count": 11,
   "id": "60812983-9d78-4d3c-b116-2fb0e6ded8f8",
   "metadata": {},
   "outputs": [
    {
     "name": "stdout",
     "output_type": "stream",
     "text": [
      "best parameters :\n",
      "{'C': 1e-05, 'tol': 1e-05}\n"
     ]
    }
   ],
   "source": [
    "params = {'C':[1e-5,1e-4,1e-3,1e-2,1e-1,1,10], 'tol': [1e-5,1e-4,1e-3,1e-2,1e-1,1,10]}\n",
    "gscv = GridSearchCV(model_logistic, param_grid=params)\n",
    "gscv.fit(X_train, y_train)\n",
    "\n",
    "print('best parameters :')\n",
    "print(gscv.best_params_)\n",
    "\n",
    "estimator = gscv.best_estimator_\n",
    "train_pred = estimator.predict(X_train)\n",
    "test_pred = estimator.predict(X_test)"
   ]
  },
  {
   "cell_type": "code",
   "execution_count": 12,
   "id": "5dd4e7d1-b4c3-404d-94fd-3739c8271a7c",
   "metadata": {},
   "outputs": [
    {
     "name": "stdout",
     "output_type": "stream",
     "text": [
      "Train :\n",
      "              precision    recall  f1-score   support\n",
      "\n",
      "           0       0.95      0.96      0.96     29672\n",
      "           1       0.96      0.95      0.95     27100\n",
      "\n",
      "    accuracy                           0.96     56772\n",
      "   macro avg       0.96      0.96      0.96     56772\n",
      "weighted avg       0.96      0.96      0.96     56772\n",
      "\n",
      "Test :\n",
      "              precision    recall  f1-score   support\n",
      "\n",
      "           0       0.96      0.97      0.96      1596\n",
      "           1       0.96      0.95      0.96      1393\n",
      "\n",
      "    accuracy                           0.96      2989\n",
      "   macro avg       0.96      0.96      0.96      2989\n",
      "weighted avg       0.96      0.96      0.96      2989\n",
      "\n"
     ]
    }
   ],
   "source": [
    "# Classification Report\n",
    "print('Train :')\n",
    "print(classification_report(y_train, train_pred))\n",
    "# Classification Report\n",
    "print('Test :')\n",
    "print(classification_report(y_test, test_pred))"
   ]
  },
  {
   "cell_type": "markdown",
   "id": "23711d1b-a02c-43ce-8dd3-7673061566b7",
   "metadata": {},
   "source": [
    "In this case cross validation is not so useful."
   ]
  },
  {
   "cell_type": "markdown",
   "id": "ff45b8d9-44b3-4e29-92b1-cee3d2b39c59",
   "metadata": {},
   "source": [
    "#### SVM Model"
   ]
  },
  {
   "cell_type": "code",
   "execution_count": 13,
   "id": "f8f8a074-5d1b-45d1-849a-3621de5fa0bf",
   "metadata": {},
   "outputs": [],
   "source": [
    "# SVM Model C=0.001, kernel='linear', random_state=0\n",
    "svc = SVC()\n",
    "svc.fit(X_train, y_train)\n",
    "\n",
    "train_pred = svc.predict(X_train)\n",
    "test_pred = svc.predict(X_test)"
   ]
  },
  {
   "cell_type": "code",
   "execution_count": 14,
   "id": "105283dd-ff3a-4378-81b1-9701f59e8337",
   "metadata": {},
   "outputs": [
    {
     "name": "stdout",
     "output_type": "stream",
     "text": [
      "Train :\n",
      "              precision    recall  f1-score   support\n",
      "\n",
      "           0       0.95      0.97      0.96     29672\n",
      "           1       0.96      0.95      0.96     27100\n",
      "\n",
      "    accuracy                           0.96     56772\n",
      "   macro avg       0.96      0.96      0.96     56772\n",
      "weighted avg       0.96      0.96      0.96     56772\n",
      "\n",
      "Test :\n",
      "              precision    recall  f1-score   support\n",
      "\n",
      "           0       0.95      0.97      0.96      1596\n",
      "           1       0.96      0.95      0.95      1393\n",
      "\n",
      "    accuracy                           0.96      2989\n",
      "   macro avg       0.96      0.96      0.96      2989\n",
      "weighted avg       0.96      0.96      0.96      2989\n",
      "\n"
     ]
    }
   ],
   "source": [
    "# Classification Report\n",
    "print('Train :')\n",
    "print(classification_report(y_train, train_pred))\n",
    "# Classification Report\n",
    "print('Test :')\n",
    "print(classification_report(y_test, test_pred))"
   ]
  },
  {
   "cell_type": "markdown",
   "id": "5d12a88e-214d-472f-b53d-7e01d45a55f4",
   "metadata": {},
   "source": [
    "###### Hyper-parameter Tuning"
   ]
  },
  {
   "cell_type": "code",
   "execution_count": 15,
   "id": "f5248bf8-e7b5-4378-aa7a-1daff1416228",
   "metadata": {},
   "outputs": [
    {
     "data": {
      "text/plain": [
       "{'C': 1.0,\n",
       " 'break_ties': False,\n",
       " 'cache_size': 200,\n",
       " 'class_weight': None,\n",
       " 'coef0': 0.0,\n",
       " 'decision_function_shape': 'ovr',\n",
       " 'degree': 3,\n",
       " 'gamma': 'scale',\n",
       " 'kernel': 'rbf',\n",
       " 'max_iter': -1,\n",
       " 'probability': False,\n",
       " 'random_state': None,\n",
       " 'shrinking': True,\n",
       " 'tol': 0.001,\n",
       " 'verbose': False}"
      ]
     },
     "execution_count": 15,
     "metadata": {},
     "output_type": "execute_result"
    }
   ],
   "source": [
    "svc.get_params()"
   ]
  },
  {
   "cell_type": "code",
   "execution_count": 16,
   "id": "981cf1cc-be03-40e0-af9e-fe94d700ce83",
   "metadata": {},
   "outputs": [
    {
     "name": "stdout",
     "output_type": "stream",
     "text": [
      "Fitting 3 folds for each of 4 candidates, totalling 12 fits\n",
      "[CV] END ..C=0.0001, kernel=linear, random_state=0, tol=0.01; total time=  12.3s\n",
      "[CV] END ..C=0.0001, kernel=linear, random_state=0, tol=0.01; total time=  13.8s\n",
      "[CV] END ..C=0.0001, kernel=linear, random_state=0, tol=0.01; total time=  15.6s\n",
      "[CV] END ...C=0.0001, kernel=linear, random_state=0, tol=0.1; total time=  14.9s\n",
      "[CV] END ...C=0.0001, kernel=linear, random_state=0, tol=0.1; total time=  15.2s\n",
      "[CV] END ...C=0.0001, kernel=linear, random_state=0, tol=0.1; total time=  13.8s\n",
      "[CV] END ...C=0.001, kernel=linear, random_state=0, tol=0.01; total time=   8.5s\n",
      "[CV] END ...C=0.001, kernel=linear, random_state=0, tol=0.01; total time=   8.7s\n",
      "[CV] END ...C=0.001, kernel=linear, random_state=0, tol=0.01; total time=   9.3s\n",
      "[CV] END ....C=0.001, kernel=linear, random_state=0, tol=0.1; total time=  10.4s\n",
      "[CV] END ....C=0.001, kernel=linear, random_state=0, tol=0.1; total time=  10.8s\n",
      "[CV] END ....C=0.001, kernel=linear, random_state=0, tol=0.1; total time=  10.7s\n",
      "best parameters :\n",
      "{'C': 0.001, 'kernel': 'linear', 'random_state': 0, 'tol': 0.1}\n"
     ]
    }
   ],
   "source": [
    "params = {'C': [0.0001, 0.001],\n",
    " 'kernel': ['linear'],\n",
    " 'random_state': [0],\n",
    "  'tol': [0.01,.1]\n",
    " }\n",
    "gscv = GridSearchCV(svc, param_grid=params,cv=3,verbose=2)\n",
    "gscv.fit(X_train, y_train)\n",
    "\n",
    "print('best parameters :')\n",
    "print(gscv.best_params_)\n",
    "\n",
    "estimator = gscv.best_estimator_\n",
    "train_pred = estimator.predict(X_train)\n",
    "test_pred = estimator.predict(X_test)"
   ]
  },
  {
   "cell_type": "code",
   "execution_count": 17,
   "id": "bfe12e00-ee98-4606-916e-03850018b315",
   "metadata": {},
   "outputs": [
    {
     "name": "stdout",
     "output_type": "stream",
     "text": [
      "Train :\n",
      "              precision    recall  f1-score   support\n",
      "\n",
      "           0       0.95      0.97      0.96     29672\n",
      "           1       0.96      0.95      0.95     27100\n",
      "\n",
      "    accuracy                           0.96     56772\n",
      "   macro avg       0.96      0.96      0.96     56772\n",
      "weighted avg       0.96      0.96      0.96     56772\n",
      "\n",
      "Test :\n",
      "              precision    recall  f1-score   support\n",
      "\n",
      "           0       0.95      0.97      0.96      1596\n",
      "           1       0.96      0.95      0.95      1393\n",
      "\n",
      "    accuracy                           0.96      2989\n",
      "   macro avg       0.96      0.96      0.96      2989\n",
      "weighted avg       0.96      0.96      0.96      2989\n",
      "\n"
     ]
    }
   ],
   "source": [
    "# Classification Report\n",
    "print('Train :')\n",
    "print(classification_report(y_train, train_pred))\n",
    "# Classification Report\n",
    "print('Test :')\n",
    "print(classification_report(y_test, test_pred))"
   ]
  },
  {
   "cell_type": "markdown",
   "id": "f085330c-5445-4802-8064-8e361e8b48cd",
   "metadata": {},
   "source": [
    "#### Prediction by user's input"
   ]
  },
  {
   "cell_type": "code",
   "execution_count": 23,
   "id": "f7ea26c0-49d7-4ca2-97fe-0518f24cb357",
   "metadata": {},
   "outputs": [
    {
     "name": "stdout",
     "output_type": "stream",
     "text": [
      "Enter values separating by commas : \n",
      "['overall', 'seat_comfort', 'cabin_service', 'food_bev', 'value_for_money', 'cabin_Business Class', 'cabin_Economy Class', 'cabin_First Class', 'cabin_Premium Economy']\n"
     ]
    },
    {
     "name": "stdin",
     "output_type": "stream",
     "text": [
      " 3,0,4,10,0,0,0,0,0\n"
     ]
    },
    {
     "name": "stdout",
     "output_type": "stream",
     "text": [
      "Not recommended\n"
     ]
    },
    {
     "name": "stderr",
     "output_type": "stream",
     "text": [
      "C:\\ProgramData\\anaconda3\\Lib\\site-packages\\sklearn\\base.py:439: UserWarning: X does not have valid feature names, but PCA was fitted with feature names\n",
      "  warnings.warn(\n"
     ]
    }
   ],
   "source": [
    "print(f\"Enter values separating by commas : \\n{list(df.drop('recommended',axis=1).columns)}\")\n",
    "# input and preprocessing\n",
    "inp = input()\n",
    "x = [float(i) for i in inp.split(',')]\n",
    "x = np.array(x)\n",
    "x = pca.transform(x.reshape(1,-1))\n",
    "# prediction\n",
    "res = model_logistic.predict(x)\n",
    "if res==0:\n",
    "    print('Not recommended')\n",
    "else:\n",
    "    print('Recommended')"
   ]
  },
  {
   "cell_type": "code",
   "execution_count": 26,
   "id": "501e486a-f89d-4ce0-a05d-70d0693c4c1d",
   "metadata": {},
   "outputs": [
    {
     "name": "stderr",
     "output_type": "stream",
     "text": [
      "A subdirectory or file models already exists.\n"
     ]
    }
   ],
   "source": [
    "import pickle\n",
    "!mkdir models\n",
    "pickle.dump(model_logistic,open('models/model_logistic.pkl','wb'))"
   ]
  },
  {
   "cell_type": "code",
   "execution_count": null,
   "id": "366c7b9e-d899-44d5-812b-2325be592deb",
   "metadata": {},
   "outputs": [],
   "source": []
  }
 ],
 "metadata": {
  "kernelspec": {
   "display_name": "Python 3 (ipykernel)",
   "language": "python",
   "name": "python3"
  },
  "language_info": {
   "codemirror_mode": {
    "name": "ipython",
    "version": 3
   },
   "file_extension": ".py",
   "mimetype": "text/x-python",
   "name": "python",
   "nbconvert_exporter": "python",
   "pygments_lexer": "ipython3",
   "version": "3.11.7"
  }
 },
 "nbformat": 4,
 "nbformat_minor": 5
}
