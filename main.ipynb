{
 "cells": [
  {
   "cell_type": "code",
   "execution_count": 1,
   "id": "5349a5dc-f0dc-48ca-b4fa-29365deb0d82",
   "metadata": {},
   "outputs": [],
   "source": [
    "import numpy as np\n",
    "import pandas as pd\n",
    "import matplotlib.pyplot as plt\n",
    "import seaborn as sns\n",
    "from sklearn.model_selection import GridSearchCV, train_test_split"
   ]
  },
  {
   "cell_type": "code",
   "execution_count": 2,
   "id": "867c7868-01c5-49d8-bcf8-a4e3794b2613",
   "metadata": {},
   "outputs": [],
   "source": [
    "df = pd.read_excel('./data/file_after_eda.xlsx')\n",
    "df.drop('Unnamed: 0', axis=1,inplace=True)"
   ]
  },
  {
   "cell_type": "code",
   "execution_count": 3,
   "id": "5fc430a5-8935-4769-a55b-2020f2a3e835",
   "metadata": {},
   "outputs": [
    {
     "data": {
      "text/plain": [
       "airline             0.00\n",
       "overall             2.95\n",
       "author              0.00\n",
       "review_date         0.00\n",
       "customer_review     0.00\n",
       "aircraft           69.07\n",
       "traveller_type     37.18\n",
       "cabin               1.77\n",
       "route              37.23\n",
       "date_flown         37.36\n",
       "seat_comfort        5.94\n",
       "cabin_service       5.89\n",
       "food_bev           19.11\n",
       "entertainment      32.68\n",
       "ground_service     37.80\n",
       "value_for_money     0.73\n",
       "recommended         0.00\n",
       "dtype: float64"
      ]
     },
     "execution_count": 3,
     "metadata": {},
     "output_type": "execute_result"
    }
   ],
   "source": [
    "# Null % in each column\n",
    "round(df.isna().sum()/len(df)*100,2)"
   ]
  },
  {
   "cell_type": "code",
   "execution_count": 4,
   "id": "43772b0d-4f3d-4abd-a755-4f925fcf239c",
   "metadata": {},
   "outputs": [],
   "source": [
    "# Drop columns with higher than 19% null\n",
    "col_with_high_null = ['aircraft', 'traveller_type', 'route', 'date_flown', 'entertainment', 'ground_service']\n",
    "unwanted_cols = ['airline', 'author', 'review_date', 'customer_review']\n",
    "df.drop(col_with_high_null,axis=1, inplace=True)\n",
    "unwanted_cols = ['airline', 'author', 'review_date', 'customer_review']\n",
    "df.drop(unwanted_cols, axis=1, inplace=True)"
   ]
  },
  {
   "cell_type": "code",
   "execution_count": 7,
   "id": "53ee8534-f963-4d0f-b6d7-6ca576732d98",
   "metadata": {},
   "outputs": [],
   "source": [
    "# Imputing null with top and mean\n",
    "df['overall']= df['overall'].fillna(df['overall'].mean())\n",
    "df['cabin'] = df['cabin'].fillna(df['cabin'].describe()['top'])\n",
    "df['seat_comfort']= df['seat_comfort'].fillna(df['seat_comfort'].mean())\n",
    "df['cabin_service']= df['cabin_service'].fillna(df['cabin_service'].mean())\n",
    "df['food_bev']= df['food_bev'].fillna(df['food_bev'].mean())\n",
    "df['value_for_money']= df['value_for_money'].fillna(df['value_for_money'].mean())"
   ]
  },
  {
   "cell_type": "code",
   "execution_count": 12,
   "id": "80e6803c-d2e3-46d0-8c55-1582f1736219",
   "metadata": {},
   "outputs": [],
   "source": [
    "df = pd.get_dummies(df,columns=['cabin'],dtype='int64') # Onehot encoding\n",
    "df['recommended'] = df['recommended'].apply(lambda x:1 if x=='yes' else 0)\n",
    "X = df.drop('recommended',axis=1)\n",
    "y = df['recommended']"
   ]
  },
  {
   "cell_type": "code",
   "execution_count": 20,
   "id": "7380455a-80f3-4e99-b770-a1aac7325439",
   "metadata": {},
   "outputs": [
    {
     "name": "stdout",
     "output_type": "stream",
     "text": [
      "X_train :  (47808, 9)\n",
      "y_train :  (47808,)\n",
      "X_test :  (11953, 9)\n",
      "X_test :  (11953, 9)\n"
     ]
    }
   ],
   "source": [
    "# Train test split\n",
    "X_train, X_test, y_train, y_test = train_test_split(X,y,random_state=0, test_size=.2)\n",
    "print('X_train : ',X_train.shape)\n",
    "print('y_train : ',y_train.shape)\n",
    "print('X_test : ', X_test.shape)\n",
    "print('X_test : ', X_test.shape)"
   ]
  },
  {
   "cell_type": "code",
   "execution_count": null,
   "id": "93f4df18-2089-4e75-97e7-a61a4ad2cd76",
   "metadata": {},
   "outputs": [],
   "source": []
  }
 ],
 "metadata": {
  "kernelspec": {
   "display_name": "Python 3 (ipykernel)",
   "language": "python",
   "name": "python3"
  },
  "language_info": {
   "codemirror_mode": {
    "name": "ipython",
    "version": 3
   },
   "file_extension": ".py",
   "mimetype": "text/x-python",
   "name": "python",
   "nbconvert_exporter": "python",
   "pygments_lexer": "ipython3",
   "version": "3.11.7"
  }
 },
 "nbformat": 4,
 "nbformat_minor": 5
}
