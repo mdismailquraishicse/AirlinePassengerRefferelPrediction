{
 "cells": [
  {
   "cell_type": "code",
   "execution_count": 1,
   "id": "5349a5dc-f0dc-48ca-b4fa-29365deb0d82",
   "metadata": {},
   "outputs": [],
   "source": [
    "import numpy as np\n",
    "import pandas as pd\n",
    "import matplotlib.pyplot as plt\n",
    "import seaborn as sns\n",
    "from sklearn.model_selection import GridSearchCV, train_test_split"
   ]
  },
  {
   "cell_type": "code",
   "execution_count": 2,
   "id": "867c7868-01c5-49d8-bcf8-a4e3794b2613",
   "metadata": {},
   "outputs": [],
   "source": [
    "df = pd.read_excel('./data/file_after_eda.xlsx')\n",
    "df.drop('Unnamed: 0', axis=1,inplace=True)"
   ]
  },
  {
   "cell_type": "code",
   "execution_count": 3,
   "id": "5fc430a5-8935-4769-a55b-2020f2a3e835",
   "metadata": {},
   "outputs": [
    {
     "data": {
      "text/plain": [
       "airline             0.00\n",
       "overall             2.95\n",
       "author              0.00\n",
       "review_date         0.00\n",
       "customer_review     0.00\n",
       "aircraft           69.07\n",
       "traveller_type     37.18\n",
       "cabin               1.77\n",
       "route              37.23\n",
       "date_flown         37.36\n",
       "seat_comfort        5.94\n",
       "cabin_service       5.89\n",
       "food_bev           19.11\n",
       "entertainment      32.68\n",
       "ground_service     37.80\n",
       "value_for_money     0.73\n",
       "recommended         0.00\n",
       "dtype: float64"
      ]
     },
     "execution_count": 3,
     "metadata": {},
     "output_type": "execute_result"
    }
   ],
   "source": [
    "# Null % in each column\n",
    "round(df.isna().sum()/len(df)*100,2)"
   ]
  },
  {
   "cell_type": "code",
   "execution_count": 4,
   "id": "43772b0d-4f3d-4abd-a755-4f925fcf239c",
   "metadata": {},
   "outputs": [],
   "source": [
    "# Drop columns with higher than 19% null\n",
    "col_with_high_null = ['aircraft', 'traveller_type', 'route', 'date_flown', 'entertainment', 'ground_service']\n",
    "unwanted_cols = ['airline', 'author', 'review_date', 'customer_review']\n",
    "df.drop(col_with_high_null,axis=1, inplace=True)\n",
    "unwanted_cols = ['airline', 'author', 'review_date', 'customer_review']\n",
    "df.drop(unwanted_cols, axis=1, inplace=True)"
   ]
  },
  {
   "cell_type": "code",
   "execution_count": 5,
   "id": "53ee8534-f963-4d0f-b6d7-6ca576732d98",
   "metadata": {},
   "outputs": [],
   "source": [
    "# Imputing null with top and mean\n",
    "df['overall']= df['overall'].fillna(df['overall'].mean())\n",
    "df['cabin'] = df['cabin'].fillna(df['cabin'].describe()['top'])\n",
    "df['seat_comfort']= df['seat_comfort'].fillna(df['seat_comfort'].mean())\n",
    "df['cabin_service']= df['cabin_service'].fillna(df['cabin_service'].mean())\n",
    "df['food_bev']= df['food_bev'].fillna(df['food_bev'].mean())\n",
    "df['value_for_money']= df['value_for_money'].fillna(df['value_for_money'].mean())"
   ]
  },
  {
   "cell_type": "code",
   "execution_count": 6,
   "id": "80e6803c-d2e3-46d0-8c55-1582f1736219",
   "metadata": {},
   "outputs": [],
   "source": [
    "df = pd.get_dummies(df,columns=['cabin'],dtype='int64') # Onehot encoding\n",
    "df['recommended'] = df['recommended'].apply(lambda x:1 if x=='yes' else 0)\n",
    "X = df.drop('recommended',axis=1)\n",
    "y = df['recommended']"
   ]
  },
  {
   "cell_type": "code",
   "execution_count": 7,
   "id": "7380455a-80f3-4e99-b770-a1aac7325439",
   "metadata": {},
   "outputs": [
    {
     "name": "stdout",
     "output_type": "stream",
     "text": [
      "X_train :  (56772, 9)\n",
      "y_train :  (56772,)\n",
      "X_test :  (2989, 9)\n",
      "X_test :  (2989, 9)\n"
     ]
    }
   ],
   "source": [
    "# Train test split\n",
    "X_train, X_test, y_train, y_test = train_test_split(X,y,random_state=0, test_size=.05)\n",
    "print('X_train : ',X_train.shape)\n",
    "print('y_train : ',y_train.shape)\n",
    "print('X_test : ', X_test.shape)\n",
    "print('X_test : ', X_test.shape)"
   ]
  },
  {
   "cell_type": "code",
   "execution_count": 8,
   "id": "93f4df18-2089-4e75-97e7-a61a4ad2cd76",
   "metadata": {},
   "outputs": [],
   "source": [
    "from sklearn.svm import SVC"
   ]
  },
  {
   "cell_type": "code",
   "execution_count": 9,
   "id": "f8f8a074-5d1b-45d1-849a-3621de5fa0bf",
   "metadata": {},
   "outputs": [],
   "source": [
    "svc = SVC(C=0.001, kernel='linear', random_state=0)"
   ]
  },
  {
   "cell_type": "code",
   "execution_count": 10,
   "id": "13360581-5085-4bd2-bd51-d6777ed916ff",
   "metadata": {},
   "outputs": [
    {
     "data": {
      "text/html": [
       "<style>#sk-container-id-1 {color: black;background-color: white;}#sk-container-id-1 pre{padding: 0;}#sk-container-id-1 div.sk-toggleable {background-color: white;}#sk-container-id-1 label.sk-toggleable__label {cursor: pointer;display: block;width: 100%;margin-bottom: 0;padding: 0.3em;box-sizing: border-box;text-align: center;}#sk-container-id-1 label.sk-toggleable__label-arrow:before {content: \"▸\";float: left;margin-right: 0.25em;color: #696969;}#sk-container-id-1 label.sk-toggleable__label-arrow:hover:before {color: black;}#sk-container-id-1 div.sk-estimator:hover label.sk-toggleable__label-arrow:before {color: black;}#sk-container-id-1 div.sk-toggleable__content {max-height: 0;max-width: 0;overflow: hidden;text-align: left;background-color: #f0f8ff;}#sk-container-id-1 div.sk-toggleable__content pre {margin: 0.2em;color: black;border-radius: 0.25em;background-color: #f0f8ff;}#sk-container-id-1 input.sk-toggleable__control:checked~div.sk-toggleable__content {max-height: 200px;max-width: 100%;overflow: auto;}#sk-container-id-1 input.sk-toggleable__control:checked~label.sk-toggleable__label-arrow:before {content: \"▾\";}#sk-container-id-1 div.sk-estimator input.sk-toggleable__control:checked~label.sk-toggleable__label {background-color: #d4ebff;}#sk-container-id-1 div.sk-label input.sk-toggleable__control:checked~label.sk-toggleable__label {background-color: #d4ebff;}#sk-container-id-1 input.sk-hidden--visually {border: 0;clip: rect(1px 1px 1px 1px);clip: rect(1px, 1px, 1px, 1px);height: 1px;margin: -1px;overflow: hidden;padding: 0;position: absolute;width: 1px;}#sk-container-id-1 div.sk-estimator {font-family: monospace;background-color: #f0f8ff;border: 1px dotted black;border-radius: 0.25em;box-sizing: border-box;margin-bottom: 0.5em;}#sk-container-id-1 div.sk-estimator:hover {background-color: #d4ebff;}#sk-container-id-1 div.sk-parallel-item::after {content: \"\";width: 100%;border-bottom: 1px solid gray;flex-grow: 1;}#sk-container-id-1 div.sk-label:hover label.sk-toggleable__label {background-color: #d4ebff;}#sk-container-id-1 div.sk-serial::before {content: \"\";position: absolute;border-left: 1px solid gray;box-sizing: border-box;top: 0;bottom: 0;left: 50%;z-index: 0;}#sk-container-id-1 div.sk-serial {display: flex;flex-direction: column;align-items: center;background-color: white;padding-right: 0.2em;padding-left: 0.2em;position: relative;}#sk-container-id-1 div.sk-item {position: relative;z-index: 1;}#sk-container-id-1 div.sk-parallel {display: flex;align-items: stretch;justify-content: center;background-color: white;position: relative;}#sk-container-id-1 div.sk-item::before, #sk-container-id-1 div.sk-parallel-item::before {content: \"\";position: absolute;border-left: 1px solid gray;box-sizing: border-box;top: 0;bottom: 0;left: 50%;z-index: -1;}#sk-container-id-1 div.sk-parallel-item {display: flex;flex-direction: column;z-index: 1;position: relative;background-color: white;}#sk-container-id-1 div.sk-parallel-item:first-child::after {align-self: flex-end;width: 50%;}#sk-container-id-1 div.sk-parallel-item:last-child::after {align-self: flex-start;width: 50%;}#sk-container-id-1 div.sk-parallel-item:only-child::after {width: 0;}#sk-container-id-1 div.sk-dashed-wrapped {border: 1px dashed gray;margin: 0 0.4em 0.5em 0.4em;box-sizing: border-box;padding-bottom: 0.4em;background-color: white;}#sk-container-id-1 div.sk-label label {font-family: monospace;font-weight: bold;display: inline-block;line-height: 1.2em;}#sk-container-id-1 div.sk-label-container {text-align: center;}#sk-container-id-1 div.sk-container {/* jupyter's `normalize.less` sets `[hidden] { display: none; }` but bootstrap.min.css set `[hidden] { display: none !important; }` so we also need the `!important` here to be able to override the default hidden behavior on the sphinx rendered scikit-learn.org. See: https://github.com/scikit-learn/scikit-learn/issues/21755 */display: inline-block !important;position: relative;}#sk-container-id-1 div.sk-text-repr-fallback {display: none;}</style><div id=\"sk-container-id-1\" class=\"sk-top-container\"><div class=\"sk-text-repr-fallback\"><pre>SVC(C=0.001, kernel=&#x27;linear&#x27;, random_state=0)</pre><b>In a Jupyter environment, please rerun this cell to show the HTML representation or trust the notebook. <br />On GitHub, the HTML representation is unable to render, please try loading this page with nbviewer.org.</b></div><div class=\"sk-container\" hidden><div class=\"sk-item\"><div class=\"sk-estimator sk-toggleable\"><input class=\"sk-toggleable__control sk-hidden--visually\" id=\"sk-estimator-id-1\" type=\"checkbox\" checked><label for=\"sk-estimator-id-1\" class=\"sk-toggleable__label sk-toggleable__label-arrow\">SVC</label><div class=\"sk-toggleable__content\"><pre>SVC(C=0.001, kernel=&#x27;linear&#x27;, random_state=0)</pre></div></div></div></div></div>"
      ],
      "text/plain": [
       "SVC(C=0.001, kernel='linear', random_state=0)"
      ]
     },
     "execution_count": 10,
     "metadata": {},
     "output_type": "execute_result"
    }
   ],
   "source": [
    "svc.fit(X_train, y_train)"
   ]
  },
  {
   "cell_type": "code",
   "execution_count": 11,
   "id": "0d92cdca-a8f8-4e03-b7ea-840ec0d60023",
   "metadata": {},
   "outputs": [],
   "source": [
    "train_pred = svc.predict(X_train)\n",
    "test_pred = svc.predict(X_test)"
   ]
  },
  {
   "cell_type": "code",
   "execution_count": 12,
   "id": "7d2cc8a8-ea86-4352-a01e-b874925575df",
   "metadata": {},
   "outputs": [],
   "source": [
    "from sklearn.metrics import classification_report, accuracy_score, confusion_matrix, precision_score"
   ]
  },
  {
   "cell_type": "code",
   "execution_count": 13,
   "id": "f173bcd4-c870-4b72-b63f-1f3de68b0829",
   "metadata": {},
   "outputs": [
    {
     "data": {
      "text/plain": [
       "0.960836969900414"
      ]
     },
     "execution_count": 13,
     "metadata": {},
     "output_type": "execute_result"
    }
   ],
   "source": [
    "precision_score(y_train,train_pred)"
   ]
  },
  {
   "cell_type": "code",
   "execution_count": 14,
   "id": "ad0ef942-fc51-48de-bb5c-b2c102bfcf7e",
   "metadata": {},
   "outputs": [
    {
     "data": {
      "text/plain": [
       "0.9593908629441624"
      ]
     },
     "execution_count": 14,
     "metadata": {},
     "output_type": "execute_result"
    }
   ],
   "source": [
    "precision_score(y_test,test_pred)"
   ]
  },
  {
   "cell_type": "code",
   "execution_count": null,
   "id": "105283dd-ff3a-4378-81b1-9701f59e8337",
   "metadata": {},
   "outputs": [],
   "source": []
  }
 ],
 "metadata": {
  "kernelspec": {
   "display_name": "Python 3 (ipykernel)",
   "language": "python",
   "name": "python3"
  },
  "language_info": {
   "codemirror_mode": {
    "name": "ipython",
    "version": 3
   },
   "file_extension": ".py",
   "mimetype": "text/x-python",
   "name": "python",
   "nbconvert_exporter": "python",
   "pygments_lexer": "ipython3",
   "version": "3.11.7"
  }
 },
 "nbformat": 4,
 "nbformat_minor": 5
}
